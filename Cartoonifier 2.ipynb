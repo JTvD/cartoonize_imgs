{
 "cells": [
  {
   "cell_type": "markdown",
   "metadata": {},
   "source": [
    "# Image Cartoonifier 2 \n",
    "Implementation of: https://data-flair.training/blogs/cartoonify-image-opencv-python/  \n",
    "Cartoon effect has two specialties:\n",
    "- Highlighted Edges\n",
    "- Smooth colors"
   ]
  },
  {
   "cell_type": "code",
   "execution_count": 1,
   "metadata": {},
   "outputs": [],
   "source": [
    "import cv2\n",
    "import numpy as np\n",
    "from matplotlib import pyplot as plt\n",
    "from os import path\n",
    "%matplotlib inline"
   ]
  },
  {
   "cell_type": "code",
   "execution_count": 2,
   "metadata": {},
   "outputs": [],
   "source": [
    "def show_img(img):\n",
    "    img = cv2.cvtColor(img, cv2.COLOR_BGR2RGB)\n",
    "    plt.figure(figsize= (20,20))\n",
    "    plt.imshow(img)\n",
    "    plt.show()\n",
    "    \n",
    "def create_miniature(img):\n",
    "    return cv2.resize(img, (960, 540))"
   ]
  },
  {
   "cell_type": "code",
   "execution_count": 3,
   "metadata": {},
   "outputs": [],
   "source": [
    "filename = r\"imgs/\"\n",
    "originalmage = cv2.imread(filename)\n",
    "examples = []\n",
    "\n",
    "examples.append(create_miniature(originalmage))"
   ]
  },
  {
   "cell_type": "code",
   "execution_count": 4,
   "metadata": {},
   "outputs": [],
   "source": [
    "# Image to grayscale\n",
    "grayScaleImage = cv2.cvtColor(originalmage, cv2.COLOR_BGR2GRAY)\n",
    "examples.append(create_miniature(grayScaleImage))"
   ]
  },
  {
   "cell_type": "code",
   "execution_count": 5,
   "metadata": {},
   "outputs": [],
   "source": [
    "# Applying median blur to smoothen an image\n",
    "smoothGrayScale = cv2.medianBlur(grayScaleImage, 5)\n",
    "examples.append(create_miniature(smoothGrayScale))"
   ]
  },
  {
   "cell_type": "markdown",
   "metadata": {},
   "source": [
    "## First speciality\n",
    "Here, we will try to retrieve the edges and highlight them. This is attained by the adaptive thresholding technique. The threshold value is the mean of the neighborhood pixel values area minus the constant C. C is a constant that is subtracted from the mean or weighted sum of the neighborhood pixels. Thresh_binary is the type of threshold applied, and the remaining parameters determine the block size."
   ]
  },
  {
   "cell_type": "code",
   "execution_count": 6,
   "metadata": {},
   "outputs": [],
   "source": [
    "getEdge = cv2.adaptiveThreshold(smoothGrayScale, 255, cv2.ADAPTIVE_THRESH_MEAN_C, cv2.THRESH_BINARY, 9, 9)\n",
    "examples.append(create_miniature(getEdge))"
   ]
  },
  {
   "cell_type": "markdown",
   "metadata": {},
   "source": [
    "## The second specialty. \n",
    "We prepare a lightened color image that we mask with edges at the end to produce a cartoon image. We use bilateralFilter which removes the noise. It can be taken as smoothening of an image to an extent.\n",
    "\n",
    "The third parameter is the diameter of the pixel neighborhood, i.e, the number of pixels around a certain pixel which will determine its value. The fourth and Fifth parameter defines signmaColor and sigmaSpace. These parameters are used to give a sigma effect, i.e make an image look vicious and like water paint, removing the roughness in colors."
   ]
  },
  {
   "cell_type": "code",
   "execution_count": 7,
   "metadata": {},
   "outputs": [],
   "source": [
    "# Higher is more blur\n",
    "blurfactor = 50 \n",
    "colorImage = cv2.bilateralFilter(originalmage, blurfactor, 300, 300)\n",
    "examples.append(create_miniature(colorImage))"
   ]
  },
  {
   "cell_type": "code",
   "execution_count": 8,
   "metadata": {},
   "outputs": [],
   "source": [
    "# Combine both the image and special mask \n",
    "cartoonImage = cv2.bitwise_and(colorImage, colorImage, mask=getEdge)\n",
    "examples.append(create_miniature(cartoonImage))"
   ]
  },
  {
   "cell_type": "code",
   "execution_count": null,
   "metadata": {},
   "outputs": [],
   "source": [
    "# Show all images\n",
    "plt_columns = 2\n",
    "plt_rows = int(len(examples) / plt_columns)\n",
    "\n",
    "# Set figure size\n",
    "fig = plt.figure(figsize=(15,15))\n",
    "\n",
    "for num, x in enumerate(examples):\n",
    "    plt.subplot(plt_rows, plt_columns, num+1,)\n",
    "    plt.title(\"step: \"+ str(num))\n",
    "    plt.axis('off')\n",
    "    img = cv2.cvtColor(examples[num], cv2.COLOR_BGR2RGB)\n",
    "    plt.imshow(img)"
   ]
  },
  {
   "cell_type": "code",
   "execution_count": null,
   "metadata": {},
   "outputs": [],
   "source": [
    "cv2.imwrite('lines.png', img)"
   ]
  }
 ],
 "metadata": {
  "kernelspec": {
   "display_name": "Python 3",
   "language": "python",
   "name": "python3"
  },
  "language_info": {
   "codemirror_mode": {
    "name": "ipython",
    "version": 3
   },
   "file_extension": ".py",
   "mimetype": "text/x-python",
   "name": "python",
   "nbconvert_exporter": "python",
   "pygments_lexer": "ipython3",
   "version": "3.10.9"
  }
 },
 "nbformat": 4,
 "nbformat_minor": 4
}
